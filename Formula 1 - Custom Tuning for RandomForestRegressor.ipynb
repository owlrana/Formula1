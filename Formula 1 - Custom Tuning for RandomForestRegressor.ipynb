{
 "cells": [
  {
   "cell_type": "markdown",
   "metadata": {},
   "source": [
    "# Formula 1 - Random Forest Tuning"
   ]
  },
  {
   "cell_type": "markdown",
   "metadata": {},
   "source": [
    "### Import Relevant Libraries"
   ]
  },
  {
   "cell_type": "code",
   "execution_count": 11,
   "metadata": {},
   "outputs": [],
   "source": [
    "import pandas as pd\n",
    "import numpy as np\n",
    "import matplotlib.pyplot as plt\n",
    "import seaborn as sns"
   ]
  },
  {
   "cell_type": "code",
   "execution_count": 12,
   "metadata": {},
   "outputs": [],
   "source": [
    "from tqdm import tqdm\n",
    "import math\n",
    "from IPython.display import clear_output"
   ]
  },
  {
   "cell_type": "code",
   "execution_count": 13,
   "metadata": {},
   "outputs": [],
   "source": [
    "from collections import defaultdict\n",
    "import regex as re\n",
    "import datetime"
   ]
  },
  {
   "cell_type": "code",
   "execution_count": 14,
   "metadata": {},
   "outputs": [],
   "source": [
    "from sklearn.model_selection import train_test_split, cross_val_score\n",
    "from sklearn.preprocessing import StandardScaler, OneHotEncoder\n",
    "from sklearn.pipeline import make_pipeline\n",
    "from sklearn.compose import ColumnTransformer\n",
    "from sklearn.feature_extraction.text import CountVectorizer\n",
    "from sklearn.ensemble import RandomForestRegressor\n",
    "from sklearn import metrics\n",
    "from sklearn.metrics import r2_score\n",
    "import joblib"
   ]
  },
  {
   "cell_type": "markdown",
   "metadata": {},
   "source": [
    "# Load The Data"
   ]
  },
  {
   "cell_type": "code",
   "execution_count": 15,
   "metadata": {},
   "outputs": [],
   "source": [
    "driver_standings = pd.read_csv('./CSV/driver_standings.csv').drop(['Unnamed: 0'], axis=1)"
   ]
  },
  {
   "cell_type": "code",
   "execution_count": 16,
   "metadata": {},
   "outputs": [],
   "source": [
    "constructor_standings = pd.read_csv('./CSV/constructor_standings.csv').drop(['Unnamed: 0'], axis=1)"
   ]
  },
  {
   "cell_type": "code",
   "execution_count": 17,
   "metadata": {},
   "outputs": [],
   "source": [
    "main_df = pd.read_csv('./CSV/main_df.csv').drop(['Unnamed: 0'], axis=1)"
   ]
  },
  {
   "cell_type": "code",
   "execution_count": 18,
   "metadata": {},
   "outputs": [
    {
     "data": {
      "text/html": [
       "<div>\n",
       "<style scoped>\n",
       "    .dataframe tbody tr th:only-of-type {\n",
       "        vertical-align: middle;\n",
       "    }\n",
       "\n",
       "    .dataframe tbody tr th {\n",
       "        vertical-align: top;\n",
       "    }\n",
       "\n",
       "    .dataframe thead th {\n",
       "        text-align: right;\n",
       "    }\n",
       "</style>\n",
       "<table border=\"1\" class=\"dataframe\">\n",
       "  <thead>\n",
       "    <tr style=\"text-align: right;\">\n",
       "      <th></th>\n",
       "      <th>season</th>\n",
       "      <th>round</th>\n",
       "      <th>race_name</th>\n",
       "      <th>name</th>\n",
       "      <th>constructor</th>\n",
       "      <th>grid</th>\n",
       "      <th>qual_position</th>\n",
       "      <th>q_best</th>\n",
       "      <th>q_worst</th>\n",
       "      <th>q_mean</th>\n",
       "      <th>...</th>\n",
       "      <th>circuitId</th>\n",
       "      <th>locality</th>\n",
       "      <th>country</th>\n",
       "      <th>type</th>\n",
       "      <th>direction</th>\n",
       "      <th>length</th>\n",
       "      <th>weather</th>\n",
       "      <th>finish_position</th>\n",
       "      <th>points</th>\n",
       "      <th>filled_splits</th>\n",
       "    </tr>\n",
       "  </thead>\n",
       "  <tbody>\n",
       "    <tr>\n",
       "      <th>0</th>\n",
       "      <td>2014</td>\n",
       "      <td>1</td>\n",
       "      <td>australian</td>\n",
       "      <td>Nico Rosberg</td>\n",
       "      <td>mercedes</td>\n",
       "      <td>3.0</td>\n",
       "      <td>3.0</td>\n",
       "      <td>92.564</td>\n",
       "      <td>104.595</td>\n",
       "      <td>99.807667</td>\n",
       "      <td>...</td>\n",
       "      <td>albert_park</td>\n",
       "      <td>Melbourne</td>\n",
       "      <td>Australia</td>\n",
       "      <td>Street circuit</td>\n",
       "      <td>Clockwise</td>\n",
       "      <td>5.303</td>\n",
       "      <td>overcast, 19°c (66°f) dry</td>\n",
       "      <td>1.0</td>\n",
       "      <td>25.0</td>\n",
       "      <td>0.000</td>\n",
       "    </tr>\n",
       "    <tr>\n",
       "      <th>1</th>\n",
       "      <td>2014</td>\n",
       "      <td>1</td>\n",
       "      <td>australian</td>\n",
       "      <td>Kevin Magnussen</td>\n",
       "      <td>mclaren</td>\n",
       "      <td>4.0</td>\n",
       "      <td>4.0</td>\n",
       "      <td>90.949</td>\n",
       "      <td>105.745</td>\n",
       "      <td>99.980333</td>\n",
       "      <td>...</td>\n",
       "      <td>albert_park</td>\n",
       "      <td>Melbourne</td>\n",
       "      <td>Australia</td>\n",
       "      <td>Street circuit</td>\n",
       "      <td>Clockwise</td>\n",
       "      <td>5.303</td>\n",
       "      <td>overcast, 19°c (66°f) dry</td>\n",
       "      <td>2.0</td>\n",
       "      <td>18.0</td>\n",
       "      <td>26.777</td>\n",
       "    </tr>\n",
       "    <tr>\n",
       "      <th>2</th>\n",
       "      <td>2014</td>\n",
       "      <td>1</td>\n",
       "      <td>australian</td>\n",
       "      <td>Jenson Button</td>\n",
       "      <td>mclaren</td>\n",
       "      <td>10.0</td>\n",
       "      <td>11.0</td>\n",
       "      <td>91.396</td>\n",
       "      <td>104.437</td>\n",
       "      <td>97.916500</td>\n",
       "      <td>...</td>\n",
       "      <td>albert_park</td>\n",
       "      <td>Melbourne</td>\n",
       "      <td>Australia</td>\n",
       "      <td>Street circuit</td>\n",
       "      <td>Clockwise</td>\n",
       "      <td>5.303</td>\n",
       "      <td>overcast, 19°c (66°f) dry</td>\n",
       "      <td>3.0</td>\n",
       "      <td>15.0</td>\n",
       "      <td>30.027</td>\n",
       "    </tr>\n",
       "    <tr>\n",
       "      <th>3</th>\n",
       "      <td>2014</td>\n",
       "      <td>1</td>\n",
       "      <td>australian</td>\n",
       "      <td>Fernando Alonso</td>\n",
       "      <td>ferrari</td>\n",
       "      <td>5.0</td>\n",
       "      <td>5.0</td>\n",
       "      <td>91.388</td>\n",
       "      <td>105.819</td>\n",
       "      <td>100.004000</td>\n",
       "      <td>...</td>\n",
       "      <td>albert_park</td>\n",
       "      <td>Melbourne</td>\n",
       "      <td>Australia</td>\n",
       "      <td>Street circuit</td>\n",
       "      <td>Clockwise</td>\n",
       "      <td>5.303</td>\n",
       "      <td>overcast, 19°c (66°f) dry</td>\n",
       "      <td>4.0</td>\n",
       "      <td>12.0</td>\n",
       "      <td>35.284</td>\n",
       "    </tr>\n",
       "    <tr>\n",
       "      <th>4</th>\n",
       "      <td>2014</td>\n",
       "      <td>1</td>\n",
       "      <td>australian</td>\n",
       "      <td>Valtteri Bottas</td>\n",
       "      <td>williams</td>\n",
       "      <td>15.0</td>\n",
       "      <td>10.0</td>\n",
       "      <td>91.601</td>\n",
       "      <td>108.147</td>\n",
       "      <td>101.200000</td>\n",
       "      <td>...</td>\n",
       "      <td>albert_park</td>\n",
       "      <td>Melbourne</td>\n",
       "      <td>Australia</td>\n",
       "      <td>Street circuit</td>\n",
       "      <td>Clockwise</td>\n",
       "      <td>5.303</td>\n",
       "      <td>overcast, 19°c (66°f) dry</td>\n",
       "      <td>5.0</td>\n",
       "      <td>10.0</td>\n",
       "      <td>47.639</td>\n",
       "    </tr>\n",
       "  </tbody>\n",
       "</table>\n",
       "<p>5 rows × 21 columns</p>\n",
       "</div>"
      ],
      "text/plain": [
       "   season  round   race_name             name constructor  grid  \\\n",
       "0    2014      1  australian     Nico Rosberg    mercedes   3.0   \n",
       "1    2014      1  australian  Kevin Magnussen     mclaren   4.0   \n",
       "2    2014      1  australian    Jenson Button     mclaren  10.0   \n",
       "3    2014      1  australian  Fernando Alonso     ferrari   5.0   \n",
       "4    2014      1  australian  Valtteri Bottas    williams  15.0   \n",
       "\n",
       "   qual_position  q_best  q_worst      q_mean  ...    circuitId   locality  \\\n",
       "0            3.0  92.564  104.595   99.807667  ...  albert_park  Melbourne   \n",
       "1            4.0  90.949  105.745   99.980333  ...  albert_park  Melbourne   \n",
       "2           11.0  91.396  104.437   97.916500  ...  albert_park  Melbourne   \n",
       "3            5.0  91.388  105.819  100.004000  ...  albert_park  Melbourne   \n",
       "4           10.0  91.601  108.147  101.200000  ...  albert_park  Melbourne   \n",
       "\n",
       "     country            type  direction length                    weather  \\\n",
       "0  Australia  Street circuit  Clockwise  5.303  overcast, 19°c (66°f) dry   \n",
       "1  Australia  Street circuit  Clockwise  5.303  overcast, 19°c (66°f) dry   \n",
       "2  Australia  Street circuit  Clockwise  5.303  overcast, 19°c (66°f) dry   \n",
       "3  Australia  Street circuit  Clockwise  5.303  overcast, 19°c (66°f) dry   \n",
       "4  Australia  Street circuit  Clockwise  5.303  overcast, 19°c (66°f) dry   \n",
       "\n",
       "  finish_position  points  filled_splits  \n",
       "0             1.0    25.0          0.000  \n",
       "1             2.0    18.0         26.777  \n",
       "2             3.0    15.0         30.027  \n",
       "3             4.0    12.0         35.284  \n",
       "4             5.0    10.0         47.639  \n",
       "\n",
       "[5 rows x 21 columns]"
      ]
     },
     "execution_count": 18,
     "metadata": {},
     "output_type": "execute_result"
    }
   ],
   "source": [
    "main_df.head()"
   ]
  },
  {
   "cell_type": "code",
   "execution_count": 19,
   "metadata": {},
   "outputs": [],
   "source": [
    "# age variable committed to csv as datetime type, loaded as a string. Reformat to remove ' days' from instances.\n",
    "\n",
    "def day_split(age):\n",
    "    return int(age.split(' ')[0])\n",
    "\n",
    "main_df.ageDuringRace = main_df.ageDuringRace.apply(day_split)"
   ]
  },
  {
   "cell_type": "code",
   "execution_count": 20,
   "metadata": {},
   "outputs": [
    {
     "data": {
      "text/plain": [
       "season               int64\n",
       "round                int64\n",
       "race_name           object\n",
       "name                object\n",
       "constructor         object\n",
       "grid               float64\n",
       "qual_position      float64\n",
       "q_best             float64\n",
       "q_worst            float64\n",
       "q_mean             float64\n",
       "ageDuringRace        int64\n",
       "circuitId           object\n",
       "locality            object\n",
       "country             object\n",
       "type                object\n",
       "direction           object\n",
       "length             float64\n",
       "weather             object\n",
       "finish_position    float64\n",
       "points             float64\n",
       "filled_splits      float64\n",
       "dtype: object"
      ]
     },
     "execution_count": 20,
     "metadata": {},
     "output_type": "execute_result"
    }
   ],
   "source": [
    "main_df.dtypes"
   ]
  },
  {
   "cell_type": "code",
   "execution_count": 21,
   "metadata": {},
   "outputs": [],
   "source": [
    "race_dps = []\n",
    "\n",
    "for years in np.array(main_df.season.unique()):\n",
    "    race_dps.extend([(years, race_name) if race_name != '70th-anniversary' \n",
    "                     else (race_name.split('-')[0], race_name.split('-')[1], years)\n",
    "                     for race_name in \n",
    "                     list(main_df[main_df.season == years]['race_name'].unique())])\n",
    "    race_dps.extend([(years, 'usa') for race_name in\n",
    "                 list(main_df[main_df.season == years]['race_name'].unique()) if race_name=='us'])\n",
    "    race_dps.extend([(years, 'mexico') for race_name in\n",
    "                 list(main_df[main_df.season == years]['race_name'].unique()) if race_name=='mexican'])"
   ]
  },
  {
   "cell_type": "markdown",
   "metadata": {},
   "source": [
    "# Model Tuning"
   ]
  },
  {
   "cell_type": "markdown",
   "metadata": {},
   "source": [
    "### Train-Test Split on pre-2020 to predict 2020 onwards"
   ]
  },
  {
   "cell_type": "code",
   "execution_count": 22,
   "metadata": {},
   "outputs": [],
   "source": [
    "main = main_df.copy()\n",
    "\n",
    "train = main[main.season<2020]\n",
    "test = main[main.season==2020]\n",
    "\n",
    "r_train = train.pop('finish_position')\n",
    "y_train = train.pop('filled_splits')\n",
    "p_train = train.pop('points')\n",
    "X_train = train\n",
    "r_test = test.pop('finish_position')\n",
    "y_test = test.pop('filled_splits')\n",
    "X_test = test\n",
    "p_test = test.pop('points')"
   ]
  },
  {
   "cell_type": "code",
   "execution_count": 23,
   "metadata": {},
   "outputs": [],
   "source": [
    "# Natural Language Processing\n",
    "cvec_weather = CountVectorizer(stop_words='english', binary=True)#strip_words\n",
    "\n",
    "# Dummification\n",
    "ohe_direction = OneHotEncoder(handle_unknown='ignore')\n",
    "ohe_country = OneHotEncoder(handle_unknown='ignore')\n",
    "ohe_locality = OneHotEncoder(handle_unknown='ignore')\n",
    "ohe_type = OneHotEncoder(handle_unknown='ignore')\n",
    "ohe_season = OneHotEncoder(handle_unknown='ignore')\n",
    "ohe_round = OneHotEncoder(handle_unknown='ignore')\n",
    "ohe_qual_pos = OneHotEncoder(handle_unknown='ignore')\n",
    "ohe_grid_pos = OneHotEncoder(handle_unknown='ignore')\n",
    "ohe_racename = OneHotEncoder(handle_unknown='ignore')\n",
    "\n",
    "# Standardisation\n",
    "scaler_q_mean = StandardScaler(with_mean=False)\n",
    "scaler_q_best = StandardScaler(with_mean=False)\n",
    "scaler_q_worst = StandardScaler(with_mean=False)\n",
    "scaler_length = StandardScaler(with_mean=False)\n",
    "scaler_age = StandardScaler(with_mean=False)"
   ]
  },
  {
   "cell_type": "code",
   "execution_count": 24,
   "metadata": {},
   "outputs": [],
   "source": [
    "col_trans = ColumnTransformer([\n",
    "                               ('weather', cvec_weather, 'weather'),\n",
    "                               ('direction', ohe_direction, ['direction']),\n",
    "                               ('country', ohe_country, ['country']),\n",
    "                               ('locality', ohe_locality, ['locality']),\n",
    "                               ('type', ohe_type, ['type']),\n",
    "                               ('season', ohe_season, ['season']),\n",
    "                               ('round', ohe_round, ['round']),\n",
    "                               ('qual_position', ohe_qual_pos, ['qual_position']),\n",
    "                               ('grid', ohe_grid_pos, ['grid']),\n",
    "                               ('race_name', ohe_racename, ['race_name']),\n",
    "                               ('q_mean', scaler_q_mean, ['q_mean']),\n",
    "                               ('q_best', scaler_q_best, ['q_best']),\n",
    "                               ('q_worst', scaler_q_worst, ['q_worst']),\n",
    "                               ('length', scaler_length, ['length']),\n",
    "                               ('ageDuringRace', scaler_age, ['ageDuringRace'])\n",
    "                              ], \n",
    "                             )"
   ]
  },
  {
   "cell_type": "code",
   "execution_count": 38,
   "metadata": {},
   "outputs": [],
   "source": [
    "params = {'ccp_alpha': [0.0, 0.01, 0.02, 0.03, 0.04, 0.05],\n",
    "          'criterion': ['mse', 'mae'],\n",
    "          'max_depth': [None, 4, 5, 6, 7, 8],\n",
    "          'max_leaf_nodes': [None, 3, 4, 5, 6],\n",
    "          'min_impurity_decrease': [0.0, 0.1, 0.2],\n",
    "          'min_impurity_split': [None, 0.1, 0.2, 0.3],\n",
    "          'min_samples_leaf': [1, 2, 3],\n",
    "          'min_samples_split': [2, 3, 4],\n",
    "          'min_weight_fraction_leaf': [0.0, 0.05, 0.1],\n",
    "          'n_estimators': [1000],\n",
    "          'warm_start': [False]}"
   ]
  },
  {
   "cell_type": "code",
   "execution_count": 33,
   "metadata": {},
   "outputs": [],
   "source": [
    "# params = {'ccp_alpha': [0.0, 0.01, 0.02],\n",
    "#           'criterion': ['mse'],\n",
    "#           'max_depth': [None],\n",
    "#           'max_leaf_nodes': [None, 3],\n",
    "#           'min_impurity_decrease': [0.0],\n",
    "#           'min_impurity_split': [None],\n",
    "#           'min_samples_leaf': [1],\n",
    "#           'min_samples_split': [2],\n",
    "#           'min_weight_fraction_leaf': [0.0],\n",
    "#           'n_estimators': [1000],\n",
    "#           'warm_start': [False]}"
   ]
  },
  {
   "cell_type": "code",
   "execution_count": 26,
   "metadata": {},
   "outputs": [],
   "source": [
    "def points(pos):\n",
    "    if pos==1: return 25\n",
    "    if pos==2: return 18\n",
    "    if pos==3: return 15\n",
    "    if pos==4: return 12\n",
    "    if pos==5: return 10\n",
    "    if pos==6: return 8\n",
    "    if pos==7: return 6\n",
    "    if pos==8: return 4\n",
    "    if pos==9: return 2\n",
    "    if pos==10: return 1\n",
    "    return 0\n",
    "\n",
    "def constructor(name):\n",
    "    return main_df[main_df.name==name][constructor]\n",
    "\n",
    "def driver_id(name):\n",
    "    name = name.split()[1].strip(' ').lower()\n",
    "    if name == 'fittipaldi':\n",
    "        return 'pietro_fittipaldi'\n",
    "    elif name == 'räikkönen':\n",
    "        return 'raikkonen'\n",
    "    elif name == 'pérez':\n",
    "        return 'perez'\n",
    "    elif name == 'hülkenberg':\n",
    "        return 'hulkenberg'\n",
    "    elif name == 'magnussen':\n",
    "        return 'kevin_magnussen'\n",
    "    elif name == 'verstappen':\n",
    "        return 'max_verstappen'\n",
    "    else:\n",
    "        return name\n",
    "\n",
    "\n",
    "best = {'ccp_alpha': None,\n",
    "        'criterion': None,\n",
    "        'max_depth': None,\n",
    "        'max_leaf_nodes': None,\n",
    "        'min_impurity_decrease': None,\n",
    "        'min_impurity_split': None,\n",
    "        'min_samples_leaf': None,\n",
    "        'min_samples_split': None,\n",
    "        'min_weight_fraction_leaf': None,\n",
    "        'n_estimators': None,\n",
    "        'warm_start': None}\n",
    "\n",
    "\n",
    "drivers = {'spearman': -math.inf,\n",
    "           'pearson': -math.inf,\n",
    "           'r2': -math.inf,\n",
    "           'mse': -math.inf,\n",
    "           'rmse': -math.inf}\n",
    "\n",
    "\n",
    "constructors = {'spearman': -math.inf,\n",
    "                'pearson': -math.inf,\n",
    "                'r2': -math.inf,\n",
    "                'mse': -math.inf,\n",
    "                'rmse': -math.inf}"
   ]
  },
  {
   "cell_type": "code",
   "execution_count": 39,
   "metadata": {},
   "outputs": [],
   "source": [
    "size = len(params['ccp_alpha'])*len(params['criterion'])*len(params['max_depth'])*len(params['max_leaf_nodes'])*len(params['min_impurity_decrease'])*len(params['min_samples_leaf'])*len(params['min_samples_split'])*len(params['min_weight_fraction_leaf'])*len(params['n_estimators'])\n",
    "\n",
    "progress = 0"
   ]
  },
  {
   "cell_type": "code",
   "execution_count": 40,
   "metadata": {},
   "outputs": [
    {
     "name": "stdout",
     "output_type": "stream",
     "text": [
      "29160\n"
     ]
    }
   ],
   "source": [
    "print(size)"
   ]
  },
  {
   "cell_type": "code",
   "execution_count": 36,
   "metadata": {
    "scrolled": true
   },
   "outputs": [
    {
     "name": "stdout",
     "output_type": "stream",
     "text": [
      "6/6\n"
     ]
    }
   ],
   "source": [
    "for ccp_alpha in params['ccp_alpha']:\n",
    "    for criterion in params['criterion']:\n",
    "        for max_depth in params['max_depth']:\n",
    "            for n_estimators in params['n_estimators']:\n",
    "                for max_leaf_nodes in params['max_leaf_nodes']:\n",
    "                    for min_impurity_decrease in params['min_impurity_decrease']:\n",
    "                        for min_samples_leaf in params['min_samples_leaf']:\n",
    "                            for min_samples_split in params['min_samples_split']:\n",
    "                                for min_weight_fraction_leaf in params['min_weight_fraction_leaf']:\n",
    "                                    progress += 1\n",
    "                                    clear_output(wait=True)\n",
    "                                    print(f'{progress}/{size}')\n",
    "                                    try:\n",
    "                                        rfr = RandomForestRegressor(ccp_alpha=ccp_alpha, criterion=criterion, max_depth=max_depth, n_estimators=n_estimators, max_leaf_nodes=max_leaf_nodes, min_impurity_decrease=min_impurity_decrease, min_samples_leaf=min_samples_leaf, min_samples_split=min_samples_split, min_weight_fraction_leaf=min_weight_fraction_leaf, n_jobs=-2)\n",
    "                                        pipe = make_pipeline(col_trans, rfr)\n",
    "                                        pipe.fit(X_train, y_train)\n",
    "                                        view_test = X_test.copy()\n",
    "\n",
    "                                        view_test['pred'] = pipe.predict(X_test)\n",
    "                                        view_test['true'] = y_test\n",
    "                                        view_test['true_finish_positions'] = r_test\n",
    "\n",
    "                                        test_indices = view_test.index\n",
    "\n",
    "                                        view_train = X_train.copy()\n",
    "                                        view_train['true'] = y_train\n",
    "                                        view_train['pred'] = pipe.predict(X_train)\n",
    "                                        view_train['true_finish_positions'] = r_train\n",
    "\n",
    "                                        train_indices = view_train.index\n",
    "\n",
    "                                        overall = pd.concat([view_test, view_train])\n",
    "                                        overall.sort_values(['season', 'round', 'pred'], inplace=True)\n",
    "\n",
    "                                        true_positions_test = []\n",
    "                                        indices_test = []\n",
    "                                        for race in race_dps:\n",
    "                                            if race[1]=='anniversary':\n",
    "                                                year = 2020\n",
    "                                                circuit = '70th-anniversary'\n",
    "                                            else:\n",
    "                                                year = race[0]\n",
    "                                                circuit = race[1]\n",
    "\n",
    "                                            year_race = overall[(overall.season==year)&(overall.race_name==circuit)]\n",
    "\n",
    "                                            def indexer(ind):\n",
    "                                                return sorted(year_race.pred).index(ind)+1\n",
    "\n",
    "                                            true_positions_test.extend(year_race.pred.apply(indexer))\n",
    "                                            indices_test.extend(year_race.pred.apply(indexer).index)\n",
    "                                        positional_convert_test = pd.DataFrame(true_positions_test, index=indices_test).sort_index()\n",
    "                                        view_test['pred_positions'] = positional_convert_test\n",
    "\n",
    "                                        true_positions_train = []\n",
    "                                        indices_train = []\n",
    "                                        for race in race_dps:\n",
    "                                            if race[1]=='anniversary':\n",
    "                                                year = 2020\n",
    "                                                circuit = '70th-anniversary'\n",
    "                                            else:\n",
    "                                                year = race[0]\n",
    "                                                circuit = race[1]\n",
    "                                            year_race = overall[(overall.season==year)&(overall.race_name==circuit)]\n",
    "\n",
    "                                            def indexer(ind):\n",
    "                                                return sorted(year_race.pred).index(ind)+1\n",
    "\n",
    "                                            true_positions_train.extend(year_race.pred.apply(indexer))\n",
    "                                            indices_train.extend(year_race.pred.apply(indexer).index)\n",
    "                                        positional_convert_train = pd.DataFrame(true_positions_train, index=indices_train).sort_index()\n",
    "                                        view_train['pred_positions'] = positional_convert_train\n",
    "\n",
    "\n",
    "                                        view_test['points'] = view_test.pred_positions.apply(points)\n",
    "\n",
    "                                        driver_points = view_test[['name', 'points']]\n",
    "                                        predicted_standings_driver = driver_points.groupby('name').agg('sum').sort_values(by='points', ascending=False)\n",
    "                                        predicted_standings_driver.reset_index(inplace=True)\n",
    "\n",
    "                                        predicted_standings_driver['driverId'] = predicted_standings_driver.name.apply(driver_id)\n",
    "                                        predicted_standings_driver.drop(['name'], axis=1, inplace=True)\n",
    "                                        predicted_standings_driver = predicted_standings_driver.reindex(columns=['driverId', 'points'])\n",
    "\n",
    "                                        driver_comparison = driver_standings.drop(['position'], axis=1)\n",
    "\n",
    "                                        driver_correlation_comparison = predicted_standings_driver.merge(driver_comparison, how='inner', on='driverId')\n",
    "                                        driver_correlation_comparison.columns=['driver', 'pred_points', 'true_points']\n",
    "\n",
    "                                        def pred_indexer(ind, df=driver_correlation_comparison):\n",
    "                                            return sorted(df.pred_points, reverse=True).index(ind)+1\n",
    "                                        def true_indexer(ind, df=driver_correlation_comparison):\n",
    "                                            return sorted(df.true_points, reverse=True).index(ind)+1\n",
    "\n",
    "                                        driver_correlation_comparison['pred_positions'] = driver_correlation_comparison.pred_points.apply(pred_indexer)\n",
    "                                        driver_correlation_comparison['true_positions'] = driver_correlation_comparison.true_points.apply(true_indexer)\n",
    "                                        driver_correlation_comparison['Pos Error (Diff: Pred - True)'] = driver_correlation_comparison.pred_positions - driver_correlation_comparison.true_positions\n",
    "\n",
    "                                        spearman_d = round(driver_correlation_comparison[['pred_points', 'true_points']].corr(method='spearman').iloc[0][1], 4)\n",
    "                                        pearson_d = round(driver_correlation_comparison[['pred_points', 'true_points']].corr(method='pearson').iloc[0][1], 4)\n",
    "                                        r2_d = round(r2_score(driver_correlation_comparison['true_points'], driver_correlation_comparison['pred_points']), 4)\n",
    "                                        mse_d = round(metrics.mean_squared_error(driver_correlation_comparison['true_points'], driver_correlation_comparison['pred_points']), 2)\n",
    "                                        rmse_d = round(np.sqrt(metrics.mean_squared_error(driver_correlation_comparison['true_points'], driver_correlation_comparison['pred_points'])), 3)\n",
    "\n",
    "                                        constructor_points = view_test[['constructor', 'points']]\n",
    "                                        predicted_standings = constructor_points.groupby('constructor').agg('sum').sort_values(by='points', ascending=False)\n",
    "                                        predicted_standings.reset_index(inplace=True)\n",
    "                                        constructor_comparison = constructor_standings.drop(['position'], axis=1)\n",
    "                                        correlation_comparison = predicted_standings.merge(constructor_comparison, how='inner', on='constructor')\n",
    "                                        correlation_comparison.columns=['constructor', 'pred_points', 'true_points']\n",
    "                                        correlation_comparison['pred_positions'] = correlation_comparison.pred_points.apply(pred_indexer, df=correlation_comparison)\n",
    "                                        correlation_comparison['true_positions'] = correlation_comparison.true_points.apply(true_indexer, df=correlation_comparison)\n",
    "\n",
    "                                        spearman = round(correlation_comparison[['pred_points', 'true_points']].corr(method='spearman').iloc[0][1], 4)\n",
    "                                        pearson = round(correlation_comparison[['pred_points', 'true_points']].corr(method='pearson').iloc[0][1], 4)\n",
    "                                        r2 = round(r2_score(correlation_comparison['true_points'], correlation_comparison['pred_points']), 4)\n",
    "                                        mse = metrics.mean_squared_error(correlation_comparison['true_points'], correlation_comparison['pred_points'])\n",
    "                                        rmse = round(np.sqrt(metrics.mean_squared_error(correlation_comparison['true_points'], correlation_comparison['pred_points'])), 3)\n",
    "\n",
    "                                        if (drivers['pearson'] < pearson_d) and (drivers['r2'] < r2_d) and (constructors['pearson'] < pearson) and (constructors['r2'] < r2):\n",
    "\n",
    "                                            best = {'ccp_alpha': ccp_alpha,\n",
    "                                                    'criterion': criterion,\n",
    "                                                    'max_depth': max_depth,\n",
    "                                                    'max_leaf_nodes': max_leaf_nodes,\n",
    "                                                    'min_impurity_decrease': min_impurity_decrease,\n",
    "                                                    'min_samples_leaf': min_samples_leaf,\n",
    "                                                    'min_samples_split': min_samples_split,\n",
    "                                                    'min_weight_fraction_leaf': min_weight_fraction_leaf,\n",
    "                                                    'n_estimators': n_estimators}\n",
    "\n",
    "                                            drivers = {'spearman': spearman_d,\n",
    "                                                       'pearson': pearson_d,\n",
    "                                                       'r2': r2_d,\n",
    "                                                       'mse': mse_d,\n",
    "                                                       'rmse': rmse_d}\n",
    "\n",
    "                                            constructors = {'spearman': spearman,\n",
    "                                                            'pearson': pearson,\n",
    "                                                            'r2': r2,\n",
    "                                                            'mse': mse,\n",
    "                                                            'rmse': rmse}\n",
    "\n",
    "                                            model = rfr\n",
    "\n",
    "                                            final_drivers = driver_correlation_comparison\n",
    "                                            final_constructors = correlation_comparison\n",
    "\n",
    "                                        else:\n",
    "                                            continue\n",
    "                                    except:\n",
    "                                        continue"
   ]
  },
  {
   "cell_type": "code",
   "execution_count": 37,
   "metadata": {},
   "outputs": [
    {
     "data": {
      "text/plain": [
       "{'ccp_alpha': 0.01,\n",
       " 'criterion': 'mse',\n",
       " 'max_depth': None,\n",
       " 'max_leaf_nodes': None,\n",
       " 'min_impurity_decrease': 0.0,\n",
       " 'min_samples_leaf': 1,\n",
       " 'min_samples_split': 2,\n",
       " 'min_weight_fraction_leaf': 0.0,\n",
       " 'n_estimators': 1000}"
      ]
     },
     "execution_count": 37,
     "metadata": {},
     "output_type": "execute_result"
    }
   ],
   "source": [
    "best"
   ]
  },
  {
   "cell_type": "markdown",
   "metadata": {},
   "source": [
    "# Driver Standings"
   ]
  },
  {
   "cell_type": "code",
   "execution_count": null,
   "metadata": {},
   "outputs": [],
   "source": [
    "final_drivers"
   ]
  },
  {
   "cell_type": "code",
   "execution_count": null,
   "metadata": {
    "scrolled": true
   },
   "outputs": [],
   "source": [
    "plt.subplots(figsize=(10, 10))\n",
    "sns.regplot(data=driver_correlation_comparison, x='pred_points', y='true_points')\n",
    "plt.plot([y_test.min(), 350], [y_test.min(), 350])\n",
    "plt.title('Driver Standings Predicted vs. True')\n",
    "plt.xlabel('Predicted Points')\n",
    "plt.ylabel('True Points')"
   ]
  },
  {
   "cell_type": "markdown",
   "metadata": {},
   "source": [
    "# Constructor Standings"
   ]
  },
  {
   "cell_type": "code",
   "execution_count": null,
   "metadata": {},
   "outputs": [],
   "source": [
    "final_constructors"
   ]
  },
  {
   "cell_type": "code",
   "execution_count": null,
   "metadata": {},
   "outputs": [],
   "source": [
    "fig, ax = plt.subplots(figsize=(10, 10))\n",
    "sns.regplot(data=correlation_comparison, x='pred_points', y='true_points')\n",
    "x_label=('Predicted Points')\n",
    "plt.plot([y_test.min(), 700], [y_test.min(), 700])\n",
    "plt.title('Constructor Standings Predicted vs. True')\n",
    "plt.xlabel('Predicted Points')\n",
    "plt.ylabel('True Points')"
   ]
  },
  {
   "cell_type": "code",
   "execution_count": null,
   "metadata": {},
   "outputs": [],
   "source": [
    "# Save the model\n",
    "\n",
    "# joblib.dump(pipe, 'ignore/models/f1model.pkl')"
   ]
  },
  {
   "cell_type": "code",
   "execution_count": null,
   "metadata": {},
   "outputs": [],
   "source": [
    "# Load the saved model\n",
    "\n",
    "# pipe = joblib.load('ignore/models/f1model.pkl')"
   ]
  }
 ],
 "metadata": {
  "kernelspec": {
   "display_name": "Python 3",
   "language": "python",
   "name": "python3"
  },
  "language_info": {
   "codemirror_mode": {
    "name": "ipython",
    "version": 3
   },
   "file_extension": ".py",
   "mimetype": "text/x-python",
   "name": "python",
   "nbconvert_exporter": "python",
   "pygments_lexer": "ipython3",
   "version": "3.8.5"
  }
 },
 "nbformat": 4,
 "nbformat_minor": 4
}
